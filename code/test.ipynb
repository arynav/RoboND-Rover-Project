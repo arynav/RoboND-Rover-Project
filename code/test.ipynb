{
 "cells": [
  {
   "cell_type": "code",
   "execution_count": 3,
   "metadata": {},
   "outputs": [
    {
     "ename": "NameError",
     "evalue": "name 'rover_xpos' is not defined",
     "output_type": "error",
     "traceback": [
      "\u001b[1;31m---------------------------------------------------------------------------\u001b[0m",
      "\u001b[1;31mNameError\u001b[0m                                 Traceback (most recent call last)",
      "\u001b[1;32m<ipython-input-3-bc7ae6a3f057>\u001b[0m in \u001b[0;36m<module>\u001b[1;34m()\u001b[0m\n\u001b[0;32m    153\u001b[0m \u001b[0mscale\u001b[0m \u001b[1;33m=\u001b[0m \u001b[1;36m10\u001b[0m\u001b[1;33m\u001b[0m\u001b[0m\n\u001b[0;32m    154\u001b[0m \u001b[1;31m# Get navigable pixel positions in world coords\u001b[0m\u001b[1;33m\u001b[0m\u001b[1;33m\u001b[0m\u001b[0m\n\u001b[1;32m--> 155\u001b[1;33m x_world, y_world = pix_to_world(xpix, ypix, rover_xpos, \n\u001b[0m\u001b[0;32m    156\u001b[0m                                 \u001b[0mrover_ypos\u001b[0m\u001b[1;33m,\u001b[0m \u001b[0mrover_yaw\u001b[0m\u001b[1;33m,\u001b[0m\u001b[1;33m\u001b[0m\u001b[0m\n\u001b[0;32m    157\u001b[0m                                 worldmap.shape[0], scale)\n",
      "\u001b[1;31mNameError\u001b[0m: name 'rover_xpos' is not defined"
     ]
    }
   ],
   "source": [
    "import matplotlib.pyplot as plt\n",
    "import matplotlib.image as mpimg\n",
    "import numpy as np\n",
    "import cv2\n",
    "%matplotlib inline\n",
    "import scipy.misc # For saving images as needed\n",
    "import glob  # For reading in a list of images from a folder\n",
    "\n",
    "# Read in the sample image\n",
    "#image = mpimg.imread('sample.jpg')\n",
    "#example_grid = '../calibration_images/example_grid1.jpg'\n",
    "example_rock = '../calibration_images/example_rock1.jpg'\n",
    "#grid_img = mpimg.imread(example_grid)\n",
    "#image = mpimg.imread(example_grid)\n",
    "rock_img = mpimg.imread(example_rock)\n",
    "\n",
    "path = '../test_dataset/IMG/*'\n",
    "img_list = glob.glob(path)\n",
    "# Grab a random image and display it\n",
    "idx = np.random.randint(0, len(img_list)-1)\n",
    "image = mpimg.imread(img_list[idx])\n",
    "#plt.imshow(image)\n",
    "\n",
    "\n",
    "# Rover yaw values will come as floats from 0 to 360\n",
    "# Generate a random value in this range\n",
    "# Note: you need to convert this to radians\n",
    "    # before adding to pixel_angles\n",
    "#rover_yaw = np.random.random(1)*360\n",
    "\n",
    "# Generate a random rover position in world coords\n",
    "# Position values will range from 20 to 180 to \n",
    "# avoid the edges in a 200 x 200 pixel world\n",
    "#rover_xpos = np.random.random(1)*160 + 20\n",
    "#rover_ypos = np.random.random(1)*160 + 20\n",
    "\n",
    "# Note: Since we've chosen random numbers for yaw and position, \n",
    "# multiple run of the code will result in different outputs each time.\n",
    "\n",
    "# Define a function to apply a rotation to pixel positions\n",
    "def rotate_pix(xpix, ypix, yaw):\n",
    "    # Convert yaw to radians\n",
    "    yaw_rad = yaw * np.pi / 180\n",
    "    # Apply a rotation\n",
    "    xpix_rotated = xpix * np.cos(yaw_rad) - ypix * np.sin(yaw_rad)\n",
    "    ypix_rotated = xpix * np.sin(yaw_rad) + ypix * np.cos(yaw_rad)\n",
    "    # Return the result  \n",
    "    return xpix_rotated, ypix_rotated\n",
    "\n",
    "# Define a function to perform a translation\n",
    "def translate_pix(xpix_rot, ypix_rot, xpos, ypos, scale): \n",
    "    # TODO:\n",
    "    scale = 10\n",
    "    # Apply a scaling and a translation\n",
    "    xpix_translated = np.int_(xpos + (xpix_rot / scale))\n",
    "    ypix_translated = np.int_(ypos + (ypix_rot / scale))\n",
    "    # Return the result  \n",
    "    return xpix_translated, ypix_translated\n",
    "\n",
    "# Define a function to apply rotation and translation (and clipping)\n",
    "# Once you define the two functions above this function should work\n",
    "def pix_to_world(xpix, ypix, xpos, ypos, yaw, world_size, scale):\n",
    "    # Apply rotation\n",
    "    xpix_rot, ypix_rot = rotate_pix(xpix, ypix, yaw)\n",
    "    # Apply translation\n",
    "    xpix_tran, ypix_tran = translate_pix(xpix_rot, ypix_rot, xpos, ypos, scale)\n",
    "    # Perform rotation, translation and clipping all at once\n",
    "    x_pix_world = np.clip(np.int_(xpix_tran), 0, world_size - 1)\n",
    "    y_pix_world = np.clip(np.int_(ypix_tran), 0, world_size - 1)\n",
    "    # Return the result\n",
    "    return x_pix_world, y_pix_world\n",
    "\n",
    "def perspect_transform(img):   \n",
    "    img_size = (img.shape[1], img.shape[0])\n",
    "    # Define calibration box in source (actual) and destination (desired) coordinates\n",
    "    # These source and destination points are defined to warp the image\n",
    "    # to a grid where each 10x10 pixel square represents 1 square meter\n",
    "    dst_size = 5 \n",
    "    # Set a bottom offset to account for the fact that the bottom of the image \n",
    "    # is not the position of the rover but a bit in front of it\n",
    "    bottom_offset = 6\n",
    "    src = np.float32([[14, 140], [301 ,140],[200, 96], [118, 96]])\n",
    "    dst = np.float32([[img_size[0]/2 - dst_size, img_size[1] - bottom_offset],\n",
    "                      [img_size[0]/2 + dst_size, img_size[1] - bottom_offset],\n",
    "                      [img_size[0]/2 + dst_size, img_size[1] - 2*dst_size - bottom_offset], \n",
    "                      [img_size[0]/2 - dst_size, img_size[1] - 2*dst_size - bottom_offset],\n",
    "                      ])\n",
    "       \n",
    "    M = cv2.getPerspectiveTransform(src, dst)\n",
    "    warped = cv2.warpPerspective(img, M, img_size)# keep same size as input image\n",
    "    return warped\n",
    "\n",
    "#def color_thresh(img, rgb_thresh=(170, 170, 170)):\n",
    "#    # Create an array of zeros same xy size as img, but single channel\n",
    "#    color_select = np.zeros_like(img[:,:,0])\n",
    "#    # Require that each pixel be above all thre threshold values in RGB\n",
    "#    # above_thresh will now contain a boolean array with \"True\"\n",
    "#    # where threshold was met\n",
    "#    above_thresh = (img[:,:,0] > rgb_thresh[0]) \\\n",
    "#                & (img[:,:,1] > rgb_thresh[1]) \\\n",
    "#                & (img[:,:,2] > rgb_thresh[2])\n",
    "#    # Index the array of zeros with the boolean array and set to 1\n",
    "#    color_select[above_thresh] = 1\n",
    "#    # Return the binary image\n",
    "#    return color_select\n",
    "\n",
    "##########################\n",
    "def color_thresh(img, low_thresh,upper_thresh):\n",
    "    # Create an array of zeros same xy size as img, but single channel\n",
    "    color_select = np.zeros_like(img[:,:,0])\n",
    "    # Require that each pixel be above all three threshold values in RGB\n",
    "    # above_thresh will now contain a boolean array with \"True\"\n",
    "    # where threshold was met\n",
    "    thresh = ((img[:,:,0] > low_thresh[0]) & (img[:,:,0] < upper_thresh[0]))\\\n",
    "            & ((img[:,:,1] > low_thresh[1]) & (img[:,:,0] < upper_thresh[1])) \\\n",
    "            & ((img[:,:,2] > low_thresh[2]) & (img[:,:,0] < upper_thresh[2]))\n",
    "    # Index the array of zeros with the boolean array and set to 1\n",
    "    color_select[thresh] = 1\n",
    "    xpos= color_select[0]\n",
    "    # Return the binary image\n",
    "    return color_select\n",
    "###########################\n",
    "    \n",
    "def rover_coords(binary_img):\n",
    "    # Identify nonzero pixels\n",
    "    ypos, xpos = binary_img.nonzero()\n",
    "    # Calculate pixel positions with reference to the rover position being at the \n",
    "    # center bottom of the image.  \n",
    "    x_pixel = np.absolute(ypos - binary_img.shape[0]).astype(np.float)\n",
    "    y_pixel = -(xpos - binary_img.shape[0]).astype(np.float)\n",
    "    return x_pixel, y_pixel\n",
    "\n",
    "# Define a function to convert to radial coords in rover space\n",
    "def to_polar_coords(x_pixel, y_pixel):\n",
    "    # Convert (x_pixel, y_pixel) to (distance, angle) \n",
    "    # in polar coordinates in rover space\n",
    "    # Calculate distance to each pixel\n",
    "    dist = np.sqrt(x_pixel**2 + y_pixel**2)\n",
    "    # Calculate angle away from vertical for each pixel\n",
    "    angles = np.arctan2(y_pixel, x_pixel)\n",
    "    return dist, angles\n",
    "\n",
    "# Perform warping and color thresholding\n",
    "warped = perspect_transform(image)\n",
    "colorsel = color_thresh(warped, low_thresh=(160,160,160),upper_thresh=(255, 255, 255))\n",
    "# Extract navigable terrain pixels\n",
    "xpix, ypix = rover_coords(colorsel)\n",
    "# Generate 200 x 200 pixel worldmap\n",
    "worldmap = np.zeros((200, 200))\n",
    "##########\n",
    "#worldmap = mpimg.imread('map.png')\n",
    "#plt.imshow(worldmap)\n",
    "#plt.show()\n",
    "##############\n",
    "scale = 10\n",
    "# Get navigable pixel positions in world coords\n",
    "x_world, y_world = pix_to_world(xpix, ypix, rover_xpos, \n",
    "                                rover_ypos, rover_yaw, \n",
    "                                worldmap.shape[0], scale)\n",
    "# Add pixel positions to worldmap\n",
    "worldmap[y_world, x_world] += 1\n",
    "print('Xpos =', rover_xpos, 'Ypos =', rover_ypos, 'Yaw =', rover_yaw)\n",
    "# Plot the map in rover-centric coords\n",
    "\n",
    "f, (ax1, ax2) = plt.subplots(1, 2, figsize=(14, 7))\n",
    "f.tight_layout()\n",
    "ax1.plot(xpix, ypix, '.')\n",
    "ax1.set_title('Rover Space', fontsize=40)\n",
    "ax1.set_ylim(-160, 160)\n",
    "ax1.set_xlim(0, 160)\n",
    "ax1.tick_params(labelsize=20)\n",
    "\n",
    "ax2.imshow(worldmap, cmap='gray')\n",
    "ax2.set_title('World Space', fontsize=40)\n",
    "ax2.set_ylim(0, 200)\n",
    "ax2.tick_params(labelsize=20)\n",
    "ax2.set_xlim(0, 200)\n",
    "\n",
    "\n",
    "plt.subplots_adjust(left=0.1, right=1, top=0.9, bottom=0.1)"
   ]
  },
  {
   "cell_type": "code",
   "execution_count": 12,
   "metadata": {},
   "outputs": [
    {
     "data": {
      "text/plain": [
       "<matplotlib.image.AxesImage at 0x23f9e41af60>"
      ]
     },
     "execution_count": 12,
     "metadata": {},
     "output_type": "execute_result"
    },
    {
     "data": {
      "image/png": "[encoded data removed]",
      "text/plain": [
       "<matplotlib.figure.Figure at 0x23f9aea5fd0>"
      ]
     },
     "metadata": {},
     "output_type": "display_data"
    }
   ],
   "source": [
    "example_rock = '../calibration_images/example_rock2.jpg'\n",
    "example_rock1 = '../calibration_images/example_rock1.jpg'\n",
    "#grid_img = mpimg.imread(example_grid)\n",
    "#image = mpimg.imread(example_grid)\n",
    "rock_img = mpimg.imread(example_rock)\n",
    "ob_img = mpimg.imread(example_rock1)\n",
    "\n",
    "\n",
    "def rocks(img, low_thresh,upper_thresh):\n",
    "    # Create an array of zeros same xy size as img, but single channel\n",
    "    color_select = np.zeros_like(img[:,:,0])\n",
    "    # Require that each pixel be above all three threshold values in RGB\n",
    "    # above_thresh will now contain a boolean array with \"True\"\n",
    "    # where threshold was met\n",
    "    thresh = ((img[:,:,0] > low_thresh[0]) & (img[:,:,0] < upper_thresh[0]))\\\n",
    "            & ((img[:,:,1] > low_thresh[1]) & (img[:,:,0] < upper_thresh[1])) \\\n",
    "            & ((img[:,:,2] > low_thresh[2]) & (img[:,:,0] < upper_thresh[2]))\n",
    "    # Index the array of zeros with the boolean array and set to 1\n",
    "    color_select[thresh] = 1\n",
    "    xpos= color_select[0]\n",
    "    # Return the binary image\n",
    "    return color_select\n",
    "\n",
    "rock = rocks(ob_img, low_thresh=(140,1,1),upper_thresh=(160, 160, 160))\n",
    "plt.imshow(rock, cmap='gray')\n",
    "# rocks==> low_thresh=(130,1,1),upper_thresh=(160, 160, 160)):\n",
    "# obstacles ==>low_thresh=(1,1,1),upper_thresh=(160, 160, 160))\n",
    "#warped = perspect_transform(rock_img)\n",
    "#colorsel = rocks(warped, low_thresh=(130,1,1),upper_thresh=(160, 160, 160))\n",
    "#plt.imshow(colorsel, cmap='gray')"
   ]
  },
  {
   "cell_type": "code",
   "execution_count": 13,
   "metadata": {},
   "outputs": [
    {
     "data": {
      "text/plain": [
       "<matplotlib.image.AxesImage at 0x23f9e482b70>"
      ]
     },
     "execution_count": 13,
     "metadata": {},
     "output_type": "execute_result"
    },
    {
     "data": {
      "image/png": "[encoded data removed]",
      "text/plain": [
       "<matplotlib.figure.Figure at 0x23f9e349828>"
      ]
     },
     "metadata": {},
     "output_type": "display_data"
    }
   ],
   "source": [
    "obstacles = rocks(ob_img, low_thresh=(1,1,1),upper_thresh=(160, 160, 160))\n",
    "plt.imshow(obstacles, cmap='gray')\n",
    "\n",
    "\n"
   ]
  },
  {
   "cell_type": "code",
   "execution_count": 14,
   "metadata": {},
   "outputs": [
    {
     "data": {
      "text/plain": [
       "<matplotlib.image.AxesImage at 0x23f9e4ed8d0>"
      ]
     },
     "execution_count": 14,
     "metadata": {},
     "output_type": "execute_result"
    },
    {
     "data": {
      "image/png": "[encoded data removed]",
      "text/plain": [
       "<matplotlib.figure.Figure at 0x23f9e4a8438>"
      ]
     },
     "metadata": {},
     "output_type": "display_data"
    }
   ],
   "source": [
    "nav = rocks(ob_img, low_thresh=(160,160,160),upper_thresh=(255, 255, 255))\n",
    "plt.imshow(obstacles, cmap='gray')\n"
   ]
  },
  {
   "cell_type": "code",
   "execution_count": 54,
   "metadata": {
    "collapsed": true
   },
   "outputs": [],
   "source": [
    "# Import pandas and read in csv file as a dataframe\n",
    "import pandas as pd\n",
    "# Change this path to your data directory\n",
    "df = pd.read_csv('../test_dataset/robot_log.csv')\n",
    "csv_img_list = df[\"Path\"].tolist() # Create list of image pathnames\n",
    "# Read in ground truth map and create a 3-channel image with it\n",
    "ground_truth = mpimg.imread('../calibration_images/map_bw.png')\n",
    "ground_truth_3d = np.dstack((ground_truth*0, ground_truth*255, ground_truth*0)).astype(np.float)\n",
    "\n",
    "# Creating a class to be the data container\n",
    "# Will read in saved data from csv file and populate this object\n",
    "# Worldmap is instantiated as 200 x 200 grids corresponding \n",
    "# to a 200m x 200m space (same size as the ground truth map: 200 x 200 pixels)\n",
    "# This encompasses the full range of output position values in x and y from the sim\n",
    "class Databucket():\n",
    "    def __init__(self):\n",
    "        self.images = csv_img_list  \n",
    "        self.xpos = df[\"X_Position\"].values\n",
    "        self.ypos = df[\"Y_Position\"].values\n",
    "        self.yaw = df[\"Yaw\"].values\n",
    "        self.count = -1 # This will be a running index, setting to -1 is a hack\n",
    "                        # because moviepy (below) seems to run one extra iteration\n",
    "        self.worldmap = np.zeros((200, 200, 3)).astype(np.float)\n",
    "        self.ground_truth = ground_truth_3d # Ground truth worldmap\n",
    "\n",
    "# Instantiate a Databucket().. this will be a global variable/object\n",
    "# that you can refer to in the process_image() function below\n",
    "data = Databucket()\n"
   ]
  },
  {
   "cell_type": "code",
   "execution_count": 1,
   "metadata": {},
   "outputs": [
    {
     "name": "stdout",
     "output_type": "stream",
     "text": [
      "(11, 4)\n",
      "11\n",
      "4\n"
     ]
    }
   ],
   "source": [
    "# Do the necessary imports\n",
    "import argparse\n",
    "import shutil\n",
    "import base64\n",
    "from datetime import datetime\n",
    "import os\n",
    "import cv2\n",
    "import numpy as np\n",
    "import socketio\n",
    "import eventlet\n",
    "import eventlet.wsgi\n",
    "from PIL import Image\n",
    "from flask import Flask\n",
    "from io import BytesIO, StringIO\n",
    "import json\n",
    "import pickle\n",
    "import matplotlib.image as mpimg\n",
    "import time\n",
    "\n",
    "# Import functions for perception and decision making\n",
    "from perception import perception_step\n",
    "from decision import decision_step\n",
    "from supporting_functions import update_rover, create_output_images\n",
    "# Initialize socketio server and Flask application \n",
    "# (learn more at: https://python-socketio.readthedocs.io/en/latest/)\n",
    "sio = socketio.Server()\n",
    "app = Flask(__name__)\n",
    "\n",
    "# Read in ground truth map and create 3-channel green version for overplotting\n",
    "# NOTE: images are read in by default with the origin (0, 0) in the upper left\n",
    "# and y-axis increasing downward.\n",
    "ground_truth = mpimg.imread('../calibration_images/map_bw.png')\n",
    "# This next line creates arrays of zeros in the red and blue channels\n",
    "# and puts the map into the green channel.  This is why the underlying \n",
    "# map output looks green in the display image\n",
    "ground_truth_3d = np.dstack((ground_truth*0, ground_truth*255, ground_truth*0)).astype(np.float)\n",
    "\n",
    "# Define RoverState() class to retain rover state parameters\n",
    "class RoverState():\n",
    "    def __init__(self):\n",
    "        self.start_time = None # To record the start time of navigation\n",
    "        self.total_time = None # To record total duration of naviagation\n",
    "        self.img = None # Current camera image\n",
    "        self.pos = None # Current position (x, y)\n",
    "        self.yaw = None # Current yaw angle\n",
    "        self.pitch = None # Current pitch angle\n",
    "        self.roll = None # Current roll angle\n",
    "        self.vel = None # Current velocity\n",
    "        self.steer = 0 # Current steering angle\n",
    "        self.throttle = 0 # Current throttle value\n",
    "        self.brake = 0 # Current brake value\n",
    "        self.nav_angles = None # Angles of navigable terrain pixels\n",
    "        self.nav_dists = None # Distances of navigable terrain pixels\n",
    "        self.ground_truth = ground_truth_3d # Ground truth worldmap\n",
    "        self.mode = 'forward' # Current mode (can be forward or stop)\n",
    "        self.throttle_set = 0.2 # Throttle setting when accelerating\n",
    "        self.brake_set = 10 # Brake setting when braking\n",
    "        # The stop_forward and go_forward fields below represent total count\n",
    "        # of navigable terrain pixels.  This is a very crude form of knowing\n",
    "        # when you can keep going and when you should stop.  Feel free to\n",
    "        # get creative in adding new fields or modifying these!\n",
    "        self.stop_forward = 50 # Threshold to initiate stopping\n",
    "        self.go_forward = 500 # Threshold to go forward again\n",
    "        self.max_vel = 2 # Maximum velocity (meters/second)\n",
    "        # Image output from perception step\n",
    "        # Update this image to display your intermediate analysis steps\n",
    "        # on screen in autonomous mode\n",
    "        self.vision_image = np.zeros((160, 320, 3), dtype=np.float) \n",
    "        # Worldmap\n",
    "        # Update this image with the positions of navigable terrain\n",
    "        # obstacles and rock samples\n",
    "        self.worldmap = np.zeros((200, 200, 3), dtype=np.float) \n",
    "        self.samples_pos = None # To store the actual sample positions\n",
    "        self.samples_found = 0 # To count the number of samples found\n",
    "        self.near_sample = 0 # Will be set to telemetry value data[\"near_sample\"]\n",
    "        self.picking_up = 0 # Will be set to telemetry value data[\"picking_up\"]\n",
    "        self.send_pickup = False # Set to True to trigger rock pickup\n",
    "# Initialize our rover \n",
    "Rover = RoverState()\n",
    "Rover.pos=11,4\n",
    "print (Rover.pos)\n",
    "print (Rover.pos[0])\n",
    "print (Rover.pos[1])\n",
    "Rover.samples_pos[0]\n",
    "\n",
    "\n",
    "\n",
    "# Variables to track frames per second (FPS)\n",
    "# Intitialize frame counter\n",
    "frame_counter = 0\n",
    "# Initalize second counter\n",
    "second_counter = time.time()\n",
    "fps = None\n",
    "\n"
   ]
  },
  {
   "cell_type": "code",
   "execution_count": 131,
   "metadata": {},
   "outputs": [
    {
     "name": "stdout",
     "output_type": "stream",
     "text": [
      "200\n"
     ]
    },
    {
     "data": {
      "image/png": "[encoded data removed]",
      "text/plain": [
       "<matplotlib.figure.Figure at 0x1d0b724ae10>"
      ]
     },
     "metadata": {},
     "output_type": "display_data"
    }
   ],
   "source": [
    "    dist, angles = to_polar_coords(xpix, ypix)\n",
    "\n",
    "    # 5) Convert rover-centric pixel values to world coords\n",
    "    #worldmap = np.zeros((200, 200))\n",
    "    scale = 10\n",
    "    #rover_xpos = 160\n",
    "    #rover_ypos = 160\n",
    "    #rover_yaw = np.random.random(1)*360\n",
    "    print (data.worldmap.shape[0])\n",
    "    nav = color_thresh(warped, low_thresh=(160,160,160),upper_thresh=(255, 255, 255))\n",
    "    # Extract navigable terrain pixels\n",
    "    xpix, ypix = rover_coords(nav)\n",
    "    #########\n",
    "    obstacles = color_thresh(warped, low_thresh=(1,1,1),upper_thresh=(160, 160, 160))\n",
    "    # Extract navigable terrain pixels\n",
    "    xpix_ob, ypix_ob = rover_coords(obstacles)\n",
    "    ob_x, ob_y = pix_to_world(xpix_ob, ypix_ob, data.xpos[data.count], \n",
    "                                data.ypos[data.count], data.yaw[data.count], \n",
    "                                data.worldmap.shape[0], scale)\n",
    "    data.worldmap[ob_y, ob_x, 0] += 1\n",
    "    ########\n",
    "    rock = color_thresh(warped, low_thresh=(140,1,1),upper_thresh=(160, 160, 160))\n",
    "    xpix_rock, ypix_rock = rover_coords(rock)\n",
    "    rock_x, rock_y = pix_to_world(xpix_rock, ypix_rock, data.xpos[data.count], \n",
    "                                data.ypos[data.count], data.yaw[data.count], \n",
    "                                data.worldmap.shape[0], scale)\n",
    "    data.worldmap[rock_y, rock_x, 1] += 1\n",
    "    ############# nav\n",
    "    navigable_x_world, navigable_y_world = pix_to_world(xpix, ypix, data.xpos[data.count], \n",
    "                                data.ypos[data.count], data.yaw[data.count], \n",
    "                                data.worldmap.shape[0], scale)\n",
    "      # 6) Update worldmap (to be displayed on right side of screen)\n",
    "        # Example: data.worldmap[obstacle_y_world, obstacle_x_world, 0] += 1\n",
    "        #          data.worldmap[rock_y_world, rock_x_world, 1] += 1\n",
    "        #          data.worldmap[navigable_y_world, navigable_x_world, 2] += 1\n",
    "    \n",
    "    data.worldmap[navigable_y_world, navigable_x_world, 2] += 1\n",
    "    #######################################################\n",
    "    f, (ax1, ax2) = plt.subplots(1, 2, figsize=(14, 7))\n",
    "    f.tight_layout()\n",
    "    ax1.plot(xpix, ypix, '.')\n",
    "    ax1.set_title('Rover Space', fontsize=40)\n",
    "    ax1.set_ylim(-160, 160)\n",
    "    ax1.set_xlim(0, 160)\n",
    "    ax1.tick_params(labelsize=20)\n",
    "\n",
    "    ax2.imshow(data.worldmap, cmap='gray')\n",
    "    ax2.set_title('World Space', fontsize=40)\n",
    "    ax2.set_ylim(0, 200)\n",
    "    ax2.tick_params(labelsize=20)\n",
    "    ax2.set_xlim(0, 200)\n",
    "\n",
    "\n",
    "    plt.subplots_adjust(left=0.1, right=1, top=0.9, bottom=0.1)\n"
   ]
  },
  {
   "cell_type": "code",
   "execution_count": 52,
   "metadata": {},
   "outputs": [
    {
     "data": {
      "text/plain": [
       "<matplotlib.image.AxesImage at 0x1d0b2098cf8>"
      ]
     },
     "execution_count": 52,
     "metadata": {},
     "output_type": "execute_result"
    },
    {
     "data": {
      "image/png": "[encoded data removed]",
      "text/plain": [
       "<matplotlib.figure.Figure at 0x1d0b192d358>"
      ]
     },
     "metadata": {},
     "output_type": "display_data"
    }
   ],
   "source": [
    "plt.imshow(data.worldmap)"
   ]
  },
  {
   "cell_type": "code",
   "execution_count": null,
   "metadata": {
    "collapsed": true
   },
   "outputs": [],
   "source": []
  },
  {
   "cell_type": "code",
   "execution_count": null,
   "metadata": {
    "collapsed": true
   },
   "outputs": [],
   "source": []
  },
  {
   "cell_type": "code",
   "execution_count": null,
   "metadata": {
    "collapsed": true
   },
   "outputs": [],
   "source": []
  },
  {
   "cell_type": "code",
   "execution_count": null,
   "metadata": {
    "collapsed": true
   },
   "outputs": [],
   "source": []
  }
 ],
 "metadata": {
  "kernelspec": {
   "display_name": "Python 3",
   "language": "python",
   "name": "python3"
  },
  "language_info": {
   "codemirror_mode": {
    "name": "ipython",
    "version": 3
   },
   "file_extension": ".py",
   "mimetype": "text/x-python",
   "name": "python",
   "nbconvert_exporter": "python",
   "pygments_lexer": "ipython3",
   "version": "3.5.2"
  },
  "widgets": {
   "state": {},
   "version": "1.1.2"
  }
 },
 "nbformat": 4,
 "nbformat_minor": 2
}
